{
 "cells": [
  {
   "cell_type": "code",
   "execution_count": 1,
   "metadata": {},
   "outputs": [],
   "source": [
    "import numpy as np\n",
    "import pandas as pd\n",
    "\n",
    "from matplotlib import pyplot as plt\n",
    "\n",
    "from igraph import Graph\n",
    "import igraph as ig\n",
    "\n",
    "from scipy import stats\n",
    "from sklearn.preprocessing import StandardScaler\n",
    "from sklearn.svm import SVR\n",
    "from sklearn.metrics import mean_absolute_error"
   ]
  },
  {
   "cell_type": "code",
   "execution_count": 84,
   "metadata": {},
   "outputs": [],
   "source": [
    "def get_ranks(league):\n",
    "    ranks = pd.read_csv('resources/{}_rankings.csv'.format(league))\n",
    "    ranks = ranks.fillna(100)\n",
    "    ranks = ranks.set_index('Club_name')\n",
    "    return ranks"
   ]
  },
  {
   "cell_type": "code",
   "execution_count": 3,
   "metadata": {},
   "outputs": [],
   "source": [
    "leagues = pd.read_csv('resources/club_league.csv')\n",
    "\n",
    "def get_league_teams(league, sellers=True):\n",
    "    lea = leagues[leagues['league_name']==league]['club_name'].values\n",
    "    if sellers:\n",
    "        lea = np.append(lea, [l+'_seller' for l in lea])\n",
    "    return lea"
   ]
  },
  {
   "cell_type": "code",
   "execution_count": 27,
   "metadata": {},
   "outputs": [],
   "source": [
    "def get_centrality(g, club, league, weights='weight'):\n",
    "    \n",
    "    ids = np.array(g.vs['id'])\n",
    "    buyer_idx  = np.where(ids == club)[0]\n",
    "    seller_idx = np.where(ids == club+'_seller')[0]\n",
    "    league_idxs = np.where(np.isin(ids, league))[0]\n",
    "\n",
    "    # If you pass weighs=None, it will just work with the normal degrees as in the original paper\n",
    "    strengths = np.array(g.strength(weights=weights))\n",
    "    strengths_league = strengths[league_idxs]\n",
    "    strenght_buyer = strengths[buyer_idx]\n",
    "    strenght_seller = strengths[seller_idx]\n",
    "    \n",
    "    z_buyer  = (strenght_buyer  - np.mean(strengths_league))/(np.std(strengths_league)+1.1e-07)\n",
    "    z_seller = (strenght_seller - np.mean(strengths_league))/(np.std(strengths_league)+1.1e-07)\n",
    "\n",
    "    # Return a vector with three elements: the centrality for the buyer, for the seller and the total\n",
    "    z = np.zeros(3)\n",
    "    \n",
    "    if buyer_idx.size > 0:  z[0] = z_buyer\n",
    "    if seller_idx.size > 0: z[1] = z_seller\n",
    "    z[2] = z[0]+z[1] # Not sure if this is the best way to combine the two indicators tho\n",
    "    \n",
    "    return z"
   ]
  },
  {
   "cell_type": "code",
   "execution_count": 28,
   "metadata": {},
   "outputs": [],
   "source": [
    "def get_centrality_years(teams, league, year_from, year_to):\n",
    "\n",
    "    years = [year for year in range(year_from, year_to+1, 1)]\n",
    "    league_teams = get_league_teams(league)\n",
    "\n",
    "    fee  = np.zeros((len(teams), len(years), 3))\n",
    "    freq = np.zeros((len(teams), len(years), 3))\n",
    "    for i, year in enumerate(years):\n",
    "\n",
    "        g_fee  = Graph.Load('nets/{}/fee_net.net'.format(year))\n",
    "        g_freq = Graph.Load('nets/{}/freq_net.net'.format(year))\n",
    "\n",
    "        for j, t in enumerate(teams):\n",
    "            fee[j, i]  = get_centrality(g_fee, t, league_teams)\n",
    "            freq[j, i] = get_centrality(g_freq, t, league_teams)\n",
    "        \n",
    "    return fee, freq"
   ]
  },
  {
   "cell_type": "code",
   "execution_count": 169,
   "metadata": {},
   "outputs": [],
   "source": [
    "def get_rank_centrality_corr(major_leagues, year_from, year_to):\n",
    "    correlations = []\n",
    "    \n",
    "    for l in major_leagues:\n",
    "\n",
    "        ranks = get_ranks(l)\n",
    "        teams = ranks.index.to_numpy()\n",
    "\n",
    "        temp_fee, temp_freq = get_centrality_years(teams, l, year_from, year_to)\n",
    "\n",
    "        league_cent = []\n",
    "        league_rank = []\n",
    "\n",
    "        for i, t in enumerate(teams):\n",
    "            # Change the last index: 0 buyer, 1 seller, 2 combined\n",
    "            # Change between temp_freq and temp_fee to use one of the two approaches\n",
    "            cent = temp_fee[i,:,2] \n",
    "            try:\n",
    "                rankings = ranks.loc[t].values\n",
    "            except:\n",
    "                print(i, t)\n",
    "                continue\n",
    "\n",
    "            idx = np.intersect1d(np.where(cent!=0),np.where(rankings!=100))\n",
    "\n",
    "            league_cent.extend(cent[idx])\n",
    "            league_rank.extend(rankings[idx])\n",
    "\n",
    "        corr = stats.pearsonr(league_cent, league_rank)[0]\n",
    "        print('Rank-Centrality correaltion for league {}: {:.2f}'.format(l, corr))\n",
    "        correlations.append(corr)\n",
    "        \n",
    "    return correlations"
   ]
  },
  {
   "cell_type": "code",
   "execution_count": 199,
   "metadata": {},
   "outputs": [],
   "source": [
    "def get_centrality_position_prob(major_leagues, year_from, year_to, positions=4):\n",
    "    \n",
    "    probs = [] \n",
    "    for l in major_leagues:\n",
    "    \n",
    "        ranks = get_ranks(l)\n",
    "        teams = ranks.index.to_numpy()\n",
    "        years = [year for year in range(year_from, year_to+1, 1)]\n",
    "\n",
    "        fee, freq = get_centrality_years(teams, l, year_from, year_to)\n",
    "        # best 5 teams for each year (last index: 0-buyer,1-seller,2-combined)\n",
    "        best_centralities = np.argsort(fee[:, :, 2], axis=0)[::-1]\n",
    "        best_centralities = best_centralities[:positions,:]\n",
    "\n",
    "        # retrieve the number of teams with the highest centrality that were also in the highest ranking positions\n",
    "        counts = 0 \n",
    "        for i,y in enumerate(years):\n",
    "            y_ranks = ranks[str(y)].sort_values()[:positions]\n",
    "            counts += len(set(y_ranks.keys())&set(teams[best_centralities[:,i]]))\n",
    "            \n",
    "        prob = counts/(positions*len(years))\n",
    "        #print('Probability to see most central teams in highest positions in {}: {:.2f}'.format(l, prob))\n",
    "        #print(round(prob, 2))\n",
    "        probs.append(prob)\n",
    "    return probs"
   ]
  },
  {
   "cell_type": "markdown",
   "metadata": {},
   "source": [
    "## Correlation between centrality and ranking"
   ]
  },
  {
   "cell_type": "markdown",
   "metadata": {},
   "source": [
    "#### All the data"
   ]
  },
  {
   "cell_type": "code",
   "execution_count": 183,
   "metadata": {},
   "outputs": [],
   "source": [
    "major_leagues = ['1 Bundesliga','Liga Nos', 'Premier League',  'Primera Division', 'Serie A']"
   ]
  },
  {
   "cell_type": "code",
   "execution_count": 172,
   "metadata": {},
   "outputs": [
    {
     "name": "stdout",
     "output_type": "stream",
     "text": [
      "Rank-Centrality correaltion for league Premier League: -0.45\n",
      "Rank-Centrality correaltion for league Serie A: -0.58\n",
      "Rank-Centrality correaltion for league 1 Bundesliga: -0.41\n",
      "Rank-Centrality correaltion for league Primera Division: -0.55\n",
      "Rank-Centrality correaltion for league Liga Nos: -0.53\n"
     ]
    }
   ],
   "source": [
    "_ = get_rank_centrality_corr(major_leagues, 1992, 2019)\n",
    "print('\\n')\n",
    "_ = get_centrality_position_prob(major_leagues, 1992, 2019, positions=4)"
   ]
  },
  {
   "cell_type": "code",
   "execution_count": 204,
   "metadata": {},
   "outputs": [
    {
     "name": "stdout",
     "output_type": "stream",
     "text": [
      "1\n",
      "2\n",
      "3\n",
      "4\n",
      "5\n",
      "6\n",
      "7\n",
      "8\n",
      "9\n",
      "10\n"
     ]
    }
   ],
   "source": [
    "mj_ps = {m:[] for m in major_leagues}\n",
    "for n in range(1, 11):\n",
    "    print(n)\n",
    "    probs = get_centrality_position_prob(major_leagues, 1992, 2019, positions=n)\n",
    "    for i, m in enumerate(major_leagues):\n",
    "        mj_ps[m].append(probs[i])"
   ]
  },
  {
   "cell_type": "code",
   "execution_count": 220,
   "metadata": {},
   "outputs": [
    {
     "data": {
      "image/png": "[encoded data removed]",
      "text/plain": [
       "<Figure size 720x432 with 1 Axes>"
      ]
     },
     "metadata": {
      "needs_background": "light"
     },
     "output_type": "display_data"
    }
   ],
   "source": [
    "plt.figure(figsize=(10,6))\n",
    "for i, m in enumerate(major_leagues): \n",
    "    plt.plot(mj_ps[m], '-o', label=m)\n",
    "    \n",
    "plt.title('Ranking-centrality probability (fee)')\n",
    "plt.xlabel('n')\n",
    "plt.ylabel('p')\n",
    "plt.xticks(range(0, 10), range(1, 11))\n",
    "plt.legend()\n",
    "plt.savefig('ranking_centrality_prob.png')\n",
    "plt.show()"
   ]
  },
  {
   "cell_type": "markdown",
   "metadata": {},
   "source": [
    "Comments about correlation:\n",
    "\n",
    "- a negative correlation means that the higher the centrality, the lower the rank; actually, since the highest rank is 1, when we have an high NEGATIVE correlation, this means that the importance in the market and the success in the league are high correlated\n",
    "- better correlations are given if we consider the only the fee method and we combine the values for buyers and sellers just summing them\n",
    "- In Serie A and Primera Division there is an higher correlation between the importance in the market and the success in the league -> Premier League and Bundesliga are less money-based?\n",
    "\n",
    "Comments about probabilities:\n",
    "- the shown probability measures how likely it is that the most central teams in the market are in the first positions of the leagues\n",
    "- for example, in Serie A in the 50% of the cases the first 5 positions were occupied by the 5 most important teams in the market\n",
    "- also in this case the Premier League seems to bee the most dynamic league"
   ]
  },
  {
   "cell_type": "markdown",
   "metadata": {},
   "source": [
    "#### Pre-Bosman"
   ]
  },
  {
   "cell_type": "code",
   "execution_count": 121,
   "metadata": {},
   "outputs": [
    {
     "name": "stdout",
     "output_type": "stream",
     "text": [
      "Rank-Centrality correaltion for league Premier League: -0.38\n",
      "Rank-Centrality correaltion for league Serie A: -0.60\n",
      "Rank-Centrality correaltion for league 1 Bundesliga: -0.38\n",
      "Rank-Centrality correaltion for league Primera Division: -0.47\n",
      "\n",
      "\n",
      "Probability to see most central teams in highest positions in Premier League: 0.25\n",
      "Probability to see most central teams in highest positions in Serie A: 0.45\n",
      "Probability to see most central teams in highest positions in 1 Bundesliga: 0.55\n",
      "Probability to see most central teams in highest positions in Primera Division: 0.45\n"
     ]
    }
   ],
   "source": [
    "_ = get_rank_centrality_corr(major_leagues, 1992, 1995)\n",
    "print('\\n')\n",
    "_ = get_centrality_position_prob(major_leagues, 1992, 1995)"
   ]
  },
  {
   "cell_type": "markdown",
   "metadata": {},
   "source": [
    "#### Early era\n"
   ]
  },
  {
   "cell_type": "code",
   "execution_count": 122,
   "metadata": {},
   "outputs": [
    {
     "name": "stdout",
     "output_type": "stream",
     "text": [
      "Rank-Centrality correaltion for league Premier League: -0.22\n",
      "Rank-Centrality correaltion for league Serie A: -0.36\n",
      "Rank-Centrality correaltion for league 1 Bundesliga: -0.64\n",
      "Rank-Centrality correaltion for league Primera Division: -0.52\n",
      "\n",
      "\n",
      "Probability to see most central teams in highest positions in Premier League: 0.30\n",
      "Probability to see most central teams in highest positions in Serie A: 0.50\n",
      "Probability to see most central teams in highest positions in 1 Bundesliga: 0.65\n",
      "Probability to see most central teams in highest positions in Primera Division: 0.60\n"
     ]
    }
   ],
   "source": [
    "_ = get_rank_centrality_corr(major_leagues, 1996, 1999)\n",
    "print('\\n')\n",
    "_ = get_centrality_position_prob(major_leagues, 1996, 1999)"
   ]
  },
  {
   "cell_type": "markdown",
   "metadata": {},
   "source": [
    "#### Mature era"
   ]
  },
  {
   "cell_type": "code",
   "execution_count": 123,
   "metadata": {},
   "outputs": [
    {
     "name": "stdout",
     "output_type": "stream",
     "text": [
      "Rank-Centrality correaltion for league Premier League: -0.31\n",
      "Rank-Centrality correaltion for league Serie A: -0.42\n",
      "Rank-Centrality correaltion for league 1 Bundesliga: -0.34\n",
      "Rank-Centrality correaltion for league Primera Division: -0.43\n",
      "\n",
      "\n",
      "Probability to see most central teams in highest positions in Premier League: 0.16\n",
      "Probability to see most central teams in highest positions in Serie A: 0.53\n",
      "Probability to see most central teams in highest positions in 1 Bundesliga: 0.53\n",
      "Probability to see most central teams in highest positions in Primera Division: 0.58\n"
     ]
    }
   ],
   "source": [
    "_ = get_rank_centrality_corr(major_leagues, 2000, 2010)\n",
    "print('\\n')\n",
    "_ = get_centrality_position_prob(major_leagues, 2000, 2010)"
   ]
  },
  {
   "cell_type": "markdown",
   "metadata": {},
   "source": [
    "#### Contemporary"
   ]
  },
  {
   "cell_type": "code",
   "execution_count": 129,
   "metadata": {},
   "outputs": [
    {
     "name": "stdout",
     "output_type": "stream",
     "text": [
      "Rank-Centrality correaltion for league Premier League: -0.31\n",
      "Rank-Centrality correaltion for league Serie A: -0.43\n",
      "Rank-Centrality correaltion for league 1 Bundesliga: -0.36\n",
      "Rank-Centrality correaltion for league Primera Division: -0.44\n",
      "\n",
      "\n",
      "Probability to see most central teams in highest positions in Premier League: 0.16\n",
      "Probability to see most central teams in highest positions in Serie A: 0.48\n",
      "Probability to see most central teams in highest positions in 1 Bundesliga: 0.48\n",
      "Probability to see most central teams in highest positions in Primera Division: 0.52\n"
     ]
    }
   ],
   "source": [
    "_ = get_rank_centrality_corr(major_leagues, 2010, 2019)\n",
    "print('\\n')\n",
    "_ = get_centrality_position_prob(major_leagues, 2010, 2019)"
   ]
  },
  {
   "cell_type": "markdown",
   "metadata": {},
   "source": [
    "## Predict ranking from centrality"
   ]
  },
  {
   "cell_type": "markdown",
   "metadata": {},
   "source": [
    "Idea: use the centrality measure to predict the ranking of the teams. Use the period from 1992 to 2015 for training, predict on the period 2015-2019. Use both the seller and buyer information and both the frequency and fee approaches in order to have 4 features. Since it is a regression problem, the mean absolute error can be used for evaluation."
   ]
  },
  {
   "cell_type": "code",
   "execution_count": 227,
   "metadata": {},
   "outputs": [],
   "source": [
    "def get_rank_centrality(league, year_from, year_to):  \n",
    "    ranks = get_ranks(league)\n",
    "    teams = ranks.index.to_numpy()\n",
    "    temp_fee, temp_freq = get_centrality_years(teams, league, year_from, year_to)\n",
    "    league_cent = []\n",
    "    league_rank = []\n",
    "    for i, t in enumerate(teams):\n",
    "        cent = np.hstack((temp_fee[i,:,:2], temp_freq[i,:,:2])) \n",
    "        try:\n",
    "            rankings = ranks.loc[t].values\n",
    "        except:\n",
    "            print(i, t)\n",
    "            continue  \n",
    "        idx = np.intersect1d(np.where(np.sum(cent, axis=1)!=0),np.where(rankings!=100))\n",
    "        if len(league_cent)==0:\n",
    "            league_cent = cent[idx]\n",
    "        else:\n",
    "            league_cent = np.vstack((league_cent, cent[idx]))    \n",
    "        league_rank.extend(rankings[idx])    \n",
    "    return league_cent, league_rank"
   ]
  },
  {
   "cell_type": "code",
   "execution_count": 232,
   "metadata": {},
   "outputs": [],
   "source": [
    "def get_prediction_error(leagues):\n",
    "    errors = []\n",
    "    for league in leagues:\n",
    "        print('Predicting ', league)\n",
    "        X_train, y_train = get_rank_centrality(league, 1992, 2015)\n",
    "        X_test, y_test = get_rank_centrality(league, 2015, 2019)\n",
    "        print('Train size: {}, Test size: {}'.format(X_train.shape[0], X_test.shape[0]))\n",
    "        sc = StandardScaler()\n",
    "        X_train = sc.fit_transform(X_train)\n",
    "        X_test = sc.transform(X_test)\n",
    "        svr = SVR(kernel = 'rbf')\n",
    "        svr.fit(X_train, y_train)\n",
    "        y_predict = svr.predict(X_test)\n",
    "        error = mean_absolute_error(y_test, y_predict)\n",
    "        print('Mean Absolute Error: {:.2f}\\n'.format(error))\n",
    "        errors.append(error)\n",
    "    return errors"
   ]
  },
  {
   "cell_type": "code",
   "execution_count": 233,
   "metadata": {},
   "outputs": [
    {
     "name": "stdout",
     "output_type": "stream",
     "text": [
      "Predicting  1 Bundesliga\n",
      "Train size: 420, Test size: 69\n",
      "Mean Absolute Error: 3.84\n",
      "\n",
      "Predicting  Liga Nos\n",
      "Train size: 176, Test size: 38\n",
      "Mean Absolute Error: 2.89\n",
      "\n",
      "Predicting  Premier League\n",
      "Train size: 470, Test size: 92\n",
      "Mean Absolute Error: 5.69\n",
      "\n",
      "Predicting  Primera Division\n",
      "Train size: 408, Test size: 65\n",
      "Mean Absolute Error: 3.71\n",
      "\n",
      "Predicting  Serie A\n",
      "Train size: 415, Test size: 81\n",
      "Mean Absolute Error: 4.42\n",
      "\n"
     ]
    }
   ],
   "source": [
    "major_leagues = ['1 Bundesliga','Liga Nos', 'Premier League',  'Primera Division', 'Serie A']\n",
    "_ = get_prediction_error(major_leagues)"
   ]
  },
  {
   "cell_type": "markdown",
   "metadata": {},
   "source": [
    "**Comments**: Bundesliga and Primer Division are the most predictible leagues, Premier League the more unpredictible ones. The error is quite low expecially in Primera Division and 1 Bundesliga, but this could be derived by the fact that is very easy to predict in these leagues the teams at the top. "
   ]
  }
 ],
 "metadata": {
  "kernelspec": {
   "display_name": "Python 3",
   "language": "python",
   "name": "python3"
  },
  "language_info": {
   "codemirror_mode": {
    "name": "ipython",
    "version": 3
   },
   "file_extension": ".py",
   "mimetype": "text/x-python",
   "name": "python",
   "nbconvert_exporter": "python",
   "pygments_lexer": "ipython3",
   "version": "3.6.5"
  }
 },
 "nbformat": 4,
 "nbformat_minor": 4
}
